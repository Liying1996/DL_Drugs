{
  "nbformat": 4,
  "nbformat_minor": 0,
  "metadata": {
    "colab": {
      "name": "RBM.ipynb",
      "provenance": [],
      "authorship_tag": "ABX9TyP8tx3MsKnUMpuT7n6+dp/k",
      "include_colab_link": true
    },
    "kernelspec": {
      "name": "python3",
      "display_name": "Python 3"
    },
    "language_info": {
      "name": "python"
    },
    "accelerator": "GPU"
  },
  "cells": [
    {
      "cell_type": "markdown",
      "metadata": {
        "id": "view-in-github",
        "colab_type": "text"
      },
      "source": [
        "<a href=\"https://colab.research.google.com/github/Liying1996/DL_Drugs/blob/main/RBM_AE.ipynb\" target=\"_parent\"><img src=\"https://colab.research.google.com/assets/colab-badge.svg\" alt=\"Open In Colab\"/></a>"
      ]
    },
    {
      "cell_type": "code",
      "metadata": {
        "colab": {
          "base_uri": "https://localhost:8080/"
        },
        "id": "jVHWjXAJPQVU",
        "outputId": "43ba1117-6af3-42b3-c3f6-97ece68313e5"
      },
      "source": [
        "from google.colab import drive\n",
        "drive.mount('/content/gdrive')"
      ],
      "execution_count": null,
      "outputs": [
        {
          "output_type": "stream",
          "text": [
            "Mounted at /content/gdrive\n"
          ],
          "name": "stdout"
        }
      ]
    },
    {
      "cell_type": "code",
      "metadata": {
        "id": "WZJ4O8-FVQco"
      },
      "source": [
        "import pandas as pd\n",
        "import numpy as np\n",
        "import matplotlib.pyplot as plt\n",
        "import re\n",
        "from scipy.stats import pearsonr\n",
        "import seaborn as sns\n",
        "import scipy.stats as stats\n",
        "import matplotlib_venn \n",
        "import random\n"
      ],
      "execution_count": null,
      "outputs": []
    },
    {
      "cell_type": "code",
      "metadata": {
        "id": "hQxxhWdVVaOq"
      },
      "source": [
        "from sklearn.svm import SVR\n",
        "from sklearn.preprocessing import StandardScaler, MinMaxScaler\n",
        "from sklearn.model_selection import train_test_split\n",
        "from sklearn.metrics import mean_squared_error\n",
        "from sklearn.pipeline import Pipeline\n",
        "from sklearn.model_selection import GridSearchCV\n",
        "from sklearn.decomposition import PCA\n",
        "from sklearn.model_selection import KFold\n",
        "from sklearn.ensemble import RandomForestRegressor\n",
        "from sklearn.svm import SVR \n",
        "from sklearn.linear_model import ElasticNet\n",
        "from sklearn.metrics import mean_squared_error, r2_score\n",
        "\n",
        "from sklearn.model_selection import train_test_split\n",
        "from sklearn.model_selection import GridSearchCV"
      ],
      "execution_count": null,
      "outputs": []
    },
    {
      "cell_type": "code",
      "metadata": {
        "id": "wynusPbrVhqb"
      },
      "source": [
        "import pickle\n",
        "import os\n",
        "import torch\n",
        "import torch.nn as nn\n",
        "import torch.nn.functional as F\n",
        "\n",
        "from scipy.stats import median_absolute_deviation\n",
        "\n",
        "from torch import nn, optim\n",
        "from torchvision import datasets, transforms, models\n",
        "from torch.utils.data import DataLoader, Dataset\n",
        "import torchvision"
      ],
      "execution_count": null,
      "outputs": []
    },
    {
      "cell_type": "code",
      "metadata": {
        "colab": {
          "base_uri": "https://localhost:8080/"
        },
        "id": "43knOxS6VLxC",
        "outputId": "8ddf71fc-fbe4-4272-80cd-b5eb22c13a3f"
      },
      "source": [
        "device = torch.device(\"cuda:0\" if torch.cuda.is_available() else \"cpu\")\n",
        "print(device)"
      ],
      "execution_count": null,
      "outputs": [
        {
          "output_type": "stream",
          "text": [
            "cuda:0\n"
          ],
          "name": "stdout"
        }
      ]
    },
    {
      "cell_type": "code",
      "metadata": {
        "id": "sim0a3Q5VMCD"
      },
      "source": [
        "gdsc = pd.read_csv('gdrive/MyDrive/GDSC2/GDSC2_IC50_after.csv')\n",
        "all_express = pd.read_csv('gdrive/MyDrive/GDSC2/expression_after.csv')\n",
        "cosmic_express = pd.read_csv('gdrive/MyDrive/GDSC2/expression_cosmic_after.csv')"
      ],
      "execution_count": null,
      "outputs": []
    },
    {
      "cell_type": "code",
      "metadata": {
        "id": "22VKz-djVMMm"
      },
      "source": [
        "X = all_express.iloc[:,1:]\n",
        "y = gdsc[gdsc['Drug_ID']=='Alisertib']['Y']"
      ],
      "execution_count": null,
      "outputs": []
    },
    {
      "cell_type": "code",
      "metadata": {
        "id": "cIvUyMFPVXUb"
      },
      "source": [
        "# Data\n",
        "\n",
        "X_train, X_test, y_train, y_test = train_test_split(X, y, test_size=0.2, random_state=1)\n",
        "\n",
        "scaler = MinMaxScaler()\n",
        "new_X_train = scaler.fit_transform(X_train)\n",
        "new_X_test = scaler.transform(X_test)\n",
        "\n",
        "train_loader = DataLoader(dataset=torch.from_numpy(new_X_train).float(), batch_size=50)   \n",
        "test_loader = DataLoader(dataset=torch.from_numpy(new_X_test).float(), batch_size=50)\n"
      ],
      "execution_count": null,
      "outputs": []
    },
    {
      "cell_type": "code",
      "metadata": {
        "id": "vsxuvpDaU-ss"
      },
      "source": [
        "import torch\n",
        "\n",
        "\n",
        "class RBM():\n",
        "\n",
        "    def __init__(self, num_visible, num_hidden, k, learning_rate=1e-3, momentum_coefficient=0.5, weight_decay=1e-4, use_cuda=True):\n",
        "        self.num_visible = num_visible\n",
        "        self.num_hidden = num_hidden\n",
        "        self.k = k\n",
        "        self.learning_rate = learning_rate\n",
        "        self.momentum_coefficient = momentum_coefficient\n",
        "        self.weight_decay = weight_decay\n",
        "        self.use_cuda = use_cuda\n",
        "\n",
        "        self.weights = torch.randn(num_visible, num_hidden) * 0.1\n",
        "        self.visible_bias = torch.ones(num_visible) * 0.5\n",
        "        self.hidden_bias = torch.zeros(num_hidden)\n",
        "\n",
        "        self.weights_momentum = torch.zeros(num_visible, num_hidden)\n",
        "        self.visible_bias_momentum = torch.zeros(num_visible)\n",
        "        self.hidden_bias_momentum = torch.zeros(num_hidden)\n",
        "\n",
        "        if self.use_cuda:\n",
        "            self.weights = self.weights.cuda()\n",
        "            self.visible_bias = self.visible_bias.cuda()\n",
        "            self.hidden_bias = self.hidden_bias.cuda()\n",
        "\n",
        "            self.weights_momentum = self.weights_momentum.cuda()\n",
        "            self.visible_bias_momentum = self.visible_bias_momentum.cuda()\n",
        "            self.hidden_bias_momentum = self.hidden_bias_momentum.cuda()\n",
        "\n",
        "    def sample_hidden(self, visible_probabilities):\n",
        "        hidden_activations = torch.matmul(visible_probabilities, self.weights) + self.hidden_bias\n",
        "        hidden_probabilities = self._sigmoid(hidden_activations)\n",
        "        return hidden_probabilities\n",
        "\n",
        "    def sample_visible(self, hidden_probabilities):\n",
        "        visible_activations = torch.matmul(hidden_probabilities, self.weights.t()) + self.visible_bias\n",
        "        visible_probabilities = self._sigmoid(visible_activations)\n",
        "        return visible_probabilities\n",
        "\n",
        "    def contrastive_divergence(self, input_data):\n",
        "        # Positive phase\n",
        "        positive_hidden_probabilities = self.sample_hidden(input_data)\n",
        "        positive_hidden_activations = (positive_hidden_probabilities >= self._random_probabilities(self.num_hidden)).float()\n",
        "        positive_associations = torch.matmul(input_data.t(), positive_hidden_activations)\n",
        "\n",
        "        # Negative phase\n",
        "        hidden_activations = positive_hidden_activations\n",
        "\n",
        "        for step in range(self.k):\n",
        "            visible_probabilities = self.sample_visible(hidden_activations)\n",
        "            hidden_probabilities = self.sample_hidden(visible_probabilities)\n",
        "            hidden_activations = (hidden_probabilities >= self._random_probabilities(self.num_hidden)).float()\n",
        "\n",
        "        negative_visible_probabilities = visible_probabilities\n",
        "        negative_hidden_probabilities = hidden_probabilities\n",
        "\n",
        "        negative_associations = torch.matmul(negative_visible_probabilities.t(), negative_hidden_probabilities)\n",
        "\n",
        "        # Update parameters\n",
        "        self.weights_momentum *= self.momentum_coefficient\n",
        "        self.weights_momentum += (positive_associations - negative_associations)\n",
        "\n",
        "        self.visible_bias_momentum *= self.momentum_coefficient\n",
        "        self.visible_bias_momentum += torch.sum(input_data - negative_visible_probabilities, dim=0)\n",
        "\n",
        "        self.hidden_bias_momentum *= self.momentum_coefficient\n",
        "        self.hidden_bias_momentum += torch.sum(positive_hidden_probabilities - negative_hidden_probabilities, dim=0)\n",
        "\n",
        "        batch_size = input_data.size(0)\n",
        "\n",
        "        self.weights += self.weights_momentum * self.learning_rate / batch_size\n",
        "        self.visible_bias += self.visible_bias_momentum * self.learning_rate / batch_size\n",
        "        self.hidden_bias += self.hidden_bias_momentum * self.learning_rate / batch_size\n",
        "\n",
        "        self.weights -= self.weights * self.weight_decay  # L2 weight decay\n",
        "\n",
        "        # Compute reconstruction error\n",
        "        error = torch.sum((input_data - negative_visible_probabilities)**2)\n",
        "\n",
        "        return error\n",
        "\n",
        "    def _sigmoid(self, x):\n",
        "        return 1 / (1 + torch.exp(-x))\n",
        "\n",
        "    def _random_probabilities(self, num):\n",
        "        random_probabilities = torch.rand(num)\n",
        "\n",
        "        if self.use_cuda:\n",
        "            random_probabilities = random_probabilities.cuda()\n",
        "\n",
        "        return random_probabilities\n"
      ],
      "execution_count": null,
      "outputs": []
    },
    {
      "cell_type": "code",
      "metadata": {
        "colab": {
          "base_uri": "https://localhost:8080/"
        },
        "collapsed": true,
        "id": "wWKv91iHVkKQ",
        "outputId": "6e8bd0bc-f872-4431-ac72-6fc746054cfe"
      },
      "source": [
        "print('Training RBM...')\n",
        "\n",
        "rbm = RBM(17737, 5000, 2, use_cuda=torch.cuda.is_available())\n",
        "\n",
        "for epoch in range(100):\n",
        "    epoch_error = 0.0\n",
        "\n",
        "    for batch in train_loader:\n",
        "\n",
        "        batch = batch.cuda()\n",
        "        batch_error = rbm.contrastive_divergence(batch)\n",
        "\n",
        "        epoch_error += batch_error\n",
        "    \n",
        "    if not (epoch % 5): \n",
        "        print('Epoch Error (epoch=%d): %.4f' % (epoch, epoch_error))"
      ],
      "execution_count": null,
      "outputs": [
        {
          "output_type": "stream",
          "text": [
            "Training RBM...\n",
            "Epoch Error (epoch=0): 1527733.6250\n",
            "Epoch Error (epoch=1): 1159543.6250\n",
            "Epoch Error (epoch=2): 1146903.7500\n",
            "Epoch Error (epoch=3): 1139408.3750\n",
            "Epoch Error (epoch=4): 1131059.2500\n",
            "Epoch Error (epoch=5): 1124355.3750\n",
            "Epoch Error (epoch=6): 1116738.1250\n",
            "Epoch Error (epoch=7): 1109540.3750\n",
            "Epoch Error (epoch=8): 1100498.2500\n",
            "Epoch Error (epoch=9): 1093051.6250\n",
            "Epoch Error (epoch=10): 1084496.8750\n",
            "Epoch Error (epoch=11): 1075575.0000\n",
            "Epoch Error (epoch=12): 1065843.8750\n",
            "Epoch Error (epoch=13): 1056358.6250\n",
            "Epoch Error (epoch=14): 1045822.0000\n",
            "Epoch Error (epoch=15): 1034943.9375\n",
            "Epoch Error (epoch=16): 1024928.1875\n",
            "Epoch Error (epoch=17): 1009715.0000\n",
            "Epoch Error (epoch=18): 1000810.1875\n",
            "Epoch Error (epoch=19): 987963.5625\n",
            "Epoch Error (epoch=20): 972500.7500\n",
            "Epoch Error (epoch=21): 958094.0000\n",
            "Epoch Error (epoch=22): 948794.3750\n",
            "Epoch Error (epoch=23): 930014.9375\n",
            "Epoch Error (epoch=24): 913151.4375\n",
            "Epoch Error (epoch=25): 898779.8125\n",
            "Epoch Error (epoch=26): 884658.0625\n",
            "Epoch Error (epoch=27): 868715.6875\n",
            "Epoch Error (epoch=28): 858049.6875\n",
            "Epoch Error (epoch=29): 851594.0000\n",
            "Epoch Error (epoch=30): 828362.6250\n",
            "Epoch Error (epoch=31): 819910.1250\n",
            "Epoch Error (epoch=32): 805720.5000\n",
            "Epoch Error (epoch=33): 794687.8750\n",
            "Epoch Error (epoch=34): 779739.8750\n",
            "Epoch Error (epoch=35): 772748.8125\n",
            "Epoch Error (epoch=36): 761808.9375\n",
            "Epoch Error (epoch=37): 742239.2500\n",
            "Epoch Error (epoch=38): 737161.1250\n",
            "Epoch Error (epoch=39): 730685.3750\n",
            "Epoch Error (epoch=40): 712840.7500\n",
            "Epoch Error (epoch=41): 711717.8125\n",
            "Epoch Error (epoch=42): 690009.6250\n",
            "Epoch Error (epoch=43): 686657.1250\n",
            "Epoch Error (epoch=44): 669218.2500\n",
            "Epoch Error (epoch=45): 674504.7500\n",
            "Epoch Error (epoch=46): 650902.9375\n",
            "Epoch Error (epoch=47): 657727.2500\n",
            "Epoch Error (epoch=48): 637762.6875\n",
            "Epoch Error (epoch=49): 623906.5000\n",
            "Epoch Error (epoch=50): 624591.4375\n",
            "Epoch Error (epoch=51): 618414.6875\n",
            "Epoch Error (epoch=52): 618846.5625\n",
            "Epoch Error (epoch=53): 594187.1250\n",
            "Epoch Error (epoch=54): 599832.6875\n",
            "Epoch Error (epoch=55): 578622.1250\n",
            "Epoch Error (epoch=56): 572218.2500\n",
            "Epoch Error (epoch=57): 565167.4375\n",
            "Epoch Error (epoch=58): 553293.6250\n",
            "Epoch Error (epoch=59): 558827.6250\n",
            "Epoch Error (epoch=60): 547887.6250\n",
            "Epoch Error (epoch=61): 535102.9375\n",
            "Epoch Error (epoch=62): 538480.8125\n",
            "Epoch Error (epoch=63): 520342.5000\n",
            "Epoch Error (epoch=64): 521970.3125\n",
            "Epoch Error (epoch=65): 515790.0938\n",
            "Epoch Error (epoch=66): 518615.1562\n",
            "Epoch Error (epoch=67): 497747.1875\n",
            "Epoch Error (epoch=68): 501583.3125\n",
            "Epoch Error (epoch=69): 497263.6250\n",
            "Epoch Error (epoch=70): 487011.8125\n",
            "Epoch Error (epoch=71): 476440.3438\n",
            "Epoch Error (epoch=72): 477094.4375\n",
            "Epoch Error (epoch=73): 468730.4375\n",
            "Epoch Error (epoch=74): 472198.2812\n",
            "Epoch Error (epoch=75): 460462.0625\n",
            "Epoch Error (epoch=76): 489403.3125\n",
            "Epoch Error (epoch=77): 446311.2188\n",
            "Epoch Error (epoch=78): 451249.4062\n",
            "Epoch Error (epoch=79): 453389.9375\n",
            "Epoch Error (epoch=80): 433352.2500\n",
            "Epoch Error (epoch=81): 447202.4062\n",
            "Epoch Error (epoch=82): 425598.0312\n",
            "Epoch Error (epoch=83): 430005.7812\n",
            "Epoch Error (epoch=84): 419792.6562\n",
            "Epoch Error (epoch=85): 422292.3438\n",
            "Epoch Error (epoch=86): 413824.3125\n",
            "Epoch Error (epoch=87): 409677.3750\n",
            "Epoch Error (epoch=88): 407514.9062\n",
            "Epoch Error (epoch=89): 419864.8750\n",
            "Epoch Error (epoch=90): 400151.5312\n",
            "Epoch Error (epoch=91): 399037.8750\n",
            "Epoch Error (epoch=92): 394543.3438\n",
            "Epoch Error (epoch=93): 393522.9375\n",
            "Epoch Error (epoch=94): 419190.9062\n",
            "Epoch Error (epoch=95): 383177.9375\n",
            "Epoch Error (epoch=96): 389448.8750\n",
            "Epoch Error (epoch=97): 402026.1250\n",
            "Epoch Error (epoch=98): 369804.3438\n",
            "Epoch Error (epoch=99): 378110.2500\n"
          ],
          "name": "stdout"
        }
      ]
    }
  ]
}