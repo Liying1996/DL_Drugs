{
  "nbformat": 4,
  "nbformat_minor": 0,
  "metadata": {
    "colab": {
      "name": "VAE.ipynb",
      "provenance": [],
      "collapsed_sections": [],
      "authorship_tag": "ABX9TyNaCbZKaPPg/g5KBP1uVZj7",
      "include_colab_link": true
    },
    "kernelspec": {
      "name": "python3",
      "display_name": "Python 3"
    },
    "accelerator": "GPU"
  },
  "cells": [
    {
      "cell_type": "markdown",
      "metadata": {
        "id": "view-in-github",
        "colab_type": "text"
      },
      "source": [
        "<a href=\"https://colab.research.google.com/github/Liying1996/DL_Drugs/blob/main/VAE.ipynb\" target=\"_parent\"><img src=\"https://colab.research.google.com/assets/colab-badge.svg\" alt=\"Open In Colab\"/></a>"
      ]
    },
    {
      "cell_type": "code",
      "metadata": {
        "id": "FmVBRe6M2t-m"
      },
      "source": [
        "import pickle\n",
        "import os\n",
        "import torch\n",
        "import torch.nn as nn\n",
        "import torch.nn.functional as F\n",
        "\n",
        "import pandas as pd\n",
        "import numpy as np \n",
        "import matplotlib.pyplot as plt\n",
        "import seaborn as sns\n",
        "from scipy.stats import median_absolute_deviation\n",
        "\n",
        "from torch import nn, optim\n",
        "from torchvision import datasets, transforms, models\n",
        "from torch.utils.data import DataLoader, Dataset\n",
        "\n",
        "from sklearn.preprocessing import StandardScaler, MinMaxScaler\n",
        "from sklearn.model_selection import KFold\n",
        "\n",
        "from sklearn.ensemble import RandomForestRegressor\n",
        "from sklearn.svm import SVR \n",
        "from sklearn.linear_model import ElasticNet\n",
        "from sklearn.metrics import mean_squared_error, r2_score\n",
        "\n",
        "from scipy.stats import pearsonr\n",
        "import random\n",
        "\n",
        "from sklearn.model_selection import train_test_split\n",
        "from sklearn.model_selection import GridSearchCV"
      ],
      "execution_count": null,
      "outputs": []
    },
    {
      "cell_type": "code",
      "metadata": {
        "colab": {
          "base_uri": "https://localhost:8080/"
        },
        "id": "J-GjiNuP3Z3m",
        "outputId": "e02033dc-ac98-4d9a-9a52-b64bf219d9ef"
      },
      "source": [
        "!nvidia-smi"
      ],
      "execution_count": null,
      "outputs": [
        {
          "output_type": "stream",
          "text": [
            "Wed Feb  3 01:28:37 2021       \n",
            "+-----------------------------------------------------------------------------+\n",
            "| NVIDIA-SMI 460.39       Driver Version: 418.67       CUDA Version: 10.1     |\n",
            "|-------------------------------+----------------------+----------------------+\n",
            "| GPU  Name        Persistence-M| Bus-Id        Disp.A | Volatile Uncorr. ECC |\n",
            "| Fan  Temp  Perf  Pwr:Usage/Cap|         Memory-Usage | GPU-Util  Compute M. |\n",
            "|                               |                      |               MIG M. |\n",
            "|===============================+======================+======================|\n",
            "|   0  Tesla V100-SXM2...  Off  | 00000000:00:04.0 Off |                    0 |\n",
            "| N/A   34C    P0    22W / 300W |      0MiB / 16130MiB |      0%      Default |\n",
            "|                               |                      |                 ERR! |\n",
            "+-------------------------------+----------------------+----------------------+\n",
            "                                                                               \n",
            "+-----------------------------------------------------------------------------+\n",
            "| Processes:                                                                  |\n",
            "|  GPU   GI   CI        PID   Type   Process name                  GPU Memory |\n",
            "|        ID   ID                                                   Usage      |\n",
            "|=============================================================================|\n",
            "|  No running processes found                                                 |\n",
            "+-----------------------------------------------------------------------------+\n"
          ],
          "name": "stdout"
        }
      ]
    },
    {
      "cell_type": "code",
      "metadata": {
        "colab": {
          "base_uri": "https://localhost:8080/"
        },
        "id": "o38vixX6A9Pp",
        "outputId": "eabfc092-7425-4b3b-ae1d-fdf004cb077e"
      },
      "source": [
        "from google.colab import drive\n",
        "drive.mount('/content/gdrive')"
      ],
      "execution_count": null,
      "outputs": [
        {
          "output_type": "stream",
          "text": [
            "Mounted at /content/gdrive\n"
          ],
          "name": "stdout"
        }
      ]
    },
    {
      "cell_type": "code",
      "metadata": {
        "id": "tk7txiMkBhaP"
      },
      "source": [
        "from torch.utils.data import Dataset, DataLoader\n",
        "\n",
        "class RegressionDataset(Dataset):   \n",
        "    def __init__(self, X_data, y_data):\n",
        "        self.X_data = X_data\n",
        "        self.y_data = y_data\n",
        "        \n",
        "    def __getitem__(self, index):\n",
        "        return self.X_data[index], self.y_data[index]\n",
        "        \n",
        "    def __len__ (self):\n",
        "        return len(self.X_data)\n"
      ],
      "execution_count": null,
      "outputs": []
    },
    {
      "cell_type": "code",
      "metadata": {
        "id": "2XDgFg2-prmm"
      },
      "source": [
        ""
      ],
      "execution_count": null,
      "outputs": []
    },
    {
      "cell_type": "code",
      "metadata": {
        "id": "TIjeBgP2ea3D"
      },
      "source": [
        "# VAE model\n",
        "class VAE(nn.Module):\n",
        "    def __init__(self, input_size):\n",
        "        super(VAE, self).__init__()\n",
        "        self.fc1 = nn.Linear(input_size, 5000)\n",
        "        self.fc2 = nn.Linear(5000, 2000)\n",
        "        self.fc3 = nn.Linear(2000, 500)\n",
        "        self.fc41 = nn.Linear(500, 100)\n",
        "        self.fc42 = nn.Linear(500, 100) \n",
        "        self.fc5 = nn.Linear(100, 500)\n",
        "        self.fc6 = nn.Linear(500, 2000)\n",
        "        self.fc7 = nn.Linear(2000, 5000)\n",
        "        self.fc8 = nn.Linear(5000, input_size)\n",
        "        \n",
        "    # 编码\n",
        "    def encode(self, x):\n",
        "        h = F.relu(self.fc1(x))\n",
        "        h = F.relu(self.fc2(h))\n",
        "        h = F.relu(self.fc3(h))\n",
        "        return self.fc41(h), self.fc42(h)\n",
        "    \n",
        "    # 随机生成隐含向量\n",
        "    def reparameterize(self, mu, log_var):\n",
        "        std = torch.exp(log_var/2)\n",
        "        eps = torch.randn_like(std)\n",
        "        return mu + eps * std\n",
        "\n",
        "    # 解码\n",
        "    def decode(self, z):\n",
        "        h = F.relu(self.fc5(z))\n",
        "        h = F.relu(self.fc6(h))\n",
        "        h = F.relu(self.fc7(h))\n",
        "        return torch.sigmoid(self.fc8(h))\n",
        "    \n",
        "    # 前向传播\n",
        "    def forward(self, x):\n",
        "        mu, log_var = self.encode(x)\n",
        "        z = self.reparameterize(mu, log_var)\n",
        "        x_reconst = self.decode(z)\n",
        "        return x_reconst, mu, log_var\n"
      ],
      "execution_count": null,
      "outputs": []
    },
    {
      "cell_type": "code",
      "metadata": {
        "id": "52o4SikZsCx5"
      },
      "source": [
        "def loss_function(recon_x, x, mu, logvar):\n",
        "    BCE = F.binary_cross_entropy(recon_x, x.view(-1, 784), reduction='sum')\n",
        "\n",
        "    # see Appendix B from VAE paper:\n",
        "    # Kingma and Welling. Auto-Encoding Variational Bayes. ICLR, 2014\n",
        "    # https://arxiv.org/abs/1312.6114\n",
        "    # 0.5 * sum(1 + log(sigma^2) - mu^2 - sigma^2)\n",
        "    KLD = -0.5 * torch.sum(1 + logvar - mu.pow(2) - logvar.exp())\n",
        "\n",
        "    return BCE + KLD"
      ],
      "execution_count": null,
      "outputs": []
    },
    {
      "cell_type": "code",
      "metadata": {
        "id": "7WuZ9isSAJGu"
      },
      "source": [
        "# python读取\n",
        "import pandas as pd\n",
        "import numpy as np\n",
        "\n",
        "bortezomib = pd.read_csv(\"gdrive/MyDrive/AE_results/Data/bortezomib_cells.txt\", sep = \"\\t\")\n",
        "# bortezomib.head(5)\n",
        "cisplatin = pd.read_csv(\"gdrive/MyDrive/AE_results/Data/cisplatin-occams_cells.txt\", sep = \"\\t\")\n",
        "paclitaxel = pd.read_csv(\"gdrive/MyDrive/AE_results/Data/paclitaxel_cells.txt\", sep = \"\\t\")\n",
        "parpi = pd.read_csv(\"gdrive/MyDrive/AE_results/Data/parpi_cells.txt\", sep = \"\\t\")"
      ],
      "execution_count": null,
      "outputs": []
    },
    {
      "cell_type": "code",
      "metadata": {
        "id": "3MzN_4GYAYrq"
      },
      "source": [
        "data = parpi\n",
        "scaler = MinMaxScaler()\n",
        "new_data = scaler.fit_transform(data.iloc[:,1:])\n",
        "all_data, all_labels = np.array(new_data), np.array(data.iloc[:,0])\n",
        "all_dataset = RegressionDataset(torch.from_numpy(all_data).float(), torch.from_numpy(all_labels).float())\n",
        "all_loader = DataLoader(dataset=all_dataset, batch_size=20)"
      ],
      "execution_count": null,
      "outputs": []
    },
    {
      "cell_type": "code",
      "metadata": {
        "id": "iEclDoWU2jm8"
      },
      "source": [
        "batch_size = 20\n",
        "learning_rate = 1e-3"
      ],
      "execution_count": null,
      "outputs": []
    },
    {
      "cell_type": "code",
      "metadata": {
        "colab": {
          "base_uri": "https://localhost:8080/"
        },
        "id": "mMyh2U2c2orF",
        "outputId": "c6aa1fba-6384-4412-f9db-d0269be1e068"
      },
      "source": [
        "device = torch.device(\"cuda:0\" if torch.cuda.is_available() else \"cpu\")\n",
        "print(device)\n",
        "model = VAE(data.shape[1]-1).to(device)\n",
        "optimizer = torch.optim.Adam(model.parameters(), lr=learning_rate)"
      ],
      "execution_count": null,
      "outputs": [
        {
          "output_type": "stream",
          "text": [
            "cuda:0\n"
          ],
          "name": "stdout"
        }
      ]
    },
    {
      "cell_type": "code",
      "metadata": {
        "colab": {
          "base_uri": "https://localhost:8080/"
        },
        "id": "cn_25aqWCVoD",
        "collapsed": true,
        "outputId": "56681feb-3ffc-4c2e-f606-f887b912613c"
      },
      "source": [
        "all_loss = []\n",
        "for epoch in range(200):\n",
        "    train_loss = 0\n",
        "    for i, (x, _) in enumerate(all_loader):\n",
        "        # 获取样本，并前向传播\n",
        "        x = x.to(device)\n",
        "        x_reconst, mu, log_var = model(x)\n",
        "        \n",
        "        # 计算重构损失和KL散度（KL散度用于衡量两种分布的相似程度）\n",
        "        reconst_loss = F.binary_cross_entropy(x_reconst, x, reduction='sum')\n",
        "        kl_div = - 0.5 * torch.sum(1 + log_var - mu.pow(2) - log_var.exp())\n",
        "        loss = reconst_loss + kl_div\n",
        "        \n",
        "        # 反向传播和优化\n",
        "        optimizer.zero_grad()\n",
        "        loss.backward()\n",
        "\n",
        "        train_loss += loss.item()\n",
        "        optimizer.step()\n",
        "    \n",
        "    all_loss.append(train_loss / len(all_loader))      \n",
        "    if not epoch%50:\n",
        "        print('====> Epoch: {} Average loss: {:.4f}'.format(epoch, train_loss / len(all_loader)))\n",
        "    "
      ],
      "execution_count": null,
      "outputs": [
        {
          "output_type": "stream",
          "text": [
            "====> Epoch: 0 Average loss: 204903.5658\n",
            "====> Epoch: 50 Average loss: 189998.2035\n",
            "====> Epoch: 100 Average loss: 188635.2969\n",
            "====> Epoch: 150 Average loss: 188184.2846\n"
          ],
          "name": "stdout"
        }
      ]
    },
    {
      "cell_type": "code",
      "metadata": {
        "id": "8rKaL8uODCP2"
      },
      "source": [
        "x_reconst, mu, log_var = model(torch.from_numpy(new_data).float().cuda())"
      ],
      "execution_count": null,
      "outputs": []
    },
    {
      "cell_type": "code",
      "metadata": {
        "id": "i_kJtrETNT_I"
      },
      "source": [
        "x_encoder = VAE(data.shape[1]-1).reparameterize(mu, log_var)"
      ],
      "execution_count": null,
      "outputs": []
    },
    {
      "cell_type": "code",
      "metadata": {
        "colab": {
          "base_uri": "https://localhost:8080/"
        },
        "id": "MFzeEtJxy0Z-",
        "outputId": "130002e0-f5be-40ea-f374-adfe66d238ed"
      },
      "source": [
        "x_encoder.shape"
      ],
      "execution_count": null,
      "outputs": [
        {
          "output_type": "execute_result",
          "data": {
            "text/plain": [
              "torch.Size([837, 100])"
            ]
          },
          "metadata": {
            "tags": []
          },
          "execution_count": 91
        }
      ]
    },
    {
      "cell_type": "code",
      "metadata": {
        "colab": {
          "base_uri": "https://localhost:8080/"
        },
        "collapsed": true,
        "id": "Tga3v8PYONwU",
        "outputId": "ed372b96-c86a-4334-d6d4-834810481c18"
      },
      "source": [
        "x_encoder.cpu().detach().numpy()[~np.isnan(all_labels)].shape"
      ],
      "execution_count": null,
      "outputs": [
        {
          "output_type": "execute_result",
          "data": {
            "text/plain": [
              "(779, 100)"
            ]
          },
          "metadata": {
            "tags": []
          },
          "execution_count": 105
        }
      ]
    },
    {
      "cell_type": "code",
      "metadata": {
        "id": "KeRhjiyDPtHD"
      },
      "source": [
        "encoder_nona = x_encoder.cpu().detach().numpy()[~np.isnan(all_labels)]\n",
        "labels_nona = all_labels[~np.isnan(all_labels)]"
      ],
      "execution_count": null,
      "outputs": []
    },
    {
      "cell_type": "code",
      "metadata": {
        "id": "pEKju0FcNxT2"
      },
      "source": [
        "from sklearn.model_selection import train_test_split\n",
        "train_encoder, test_encoder, y_train, y_test = train_test_split(x_encoder.cpu().detach().numpy()[~np.isnan(all_labels)], \n",
        "                                                                all_labels[~np.isnan(all_labels)], test_size=0.3)"
      ],
      "execution_count": null,
      "outputs": []
    },
    {
      "cell_type": "code",
      "metadata": {
        "id": "WAYmHsoIQvL1"
      },
      "source": [
        "from sklearn.svm import SVR \n",
        "from sklearn.metrics import r2_score, mean_absolute_error, mean_squared_error"
      ],
      "execution_count": null,
      "outputs": []
    },
    {
      "cell_type": "code",
      "metadata": {
        "colab": {
          "base_uri": "https://localhost:8080/"
        },
        "id": "Vm1YJFHYQnNU",
        "outputId": "13e56fbe-1f30-416a-c2ba-06dc29d07e94"
      },
      "source": [
        "\n",
        "rbf_svr = SVR(kernel='rbf', C=1.5)\n",
        "rbf_svr.fit(train_encoder, y_train)\n",
        "rbf_svr_predict = rbf_svr.predict(test_encoder)\n",
        "\n",
        "print(mean_squared_error(y_test, rbf_svr_predict))\n",
        "print(r2_score(y_test, rbf_svr_predict))"
      ],
      "execution_count": null,
      "outputs": [
        {
          "output_type": "stream",
          "text": [
            "1.0777344536401066\n",
            "-0.08900897681028619\n"
          ],
          "name": "stdout"
        }
      ]
    },
    {
      "cell_type": "code",
      "metadata": {
        "colab": {
          "base_uri": "https://localhost:8080/"
        },
        "id": "2VWxNJJ4zrEu",
        "outputId": "f5964ba7-b731-4a3b-edf0-c1219a213f39"
      },
      "source": [
        "from sklearn.model_selection import cross_val_score\n",
        "\n",
        "print(np.mean(cross_val_score(rbf_svr, encoder_nona, labels_nona, cv=5, scoring=\"neg_mean_squared_error\")))\n",
        "print(np.mean(cross_val_score(rbf_svr, encoder_nona, labels_nona, cv=5, scoring=\"r2\")))"
      ],
      "execution_count": null,
      "outputs": [
        {
          "output_type": "stream",
          "text": [
            "-1.047925519241245\n",
            "-0.06099056270929615\n"
          ],
          "name": "stdout"
        }
      ]
    },
    {
      "cell_type": "code",
      "metadata": {
        "colab": {
          "base_uri": "https://localhost:8080/"
        },
        "collapsed": true,
        "id": "_PWw5D_BQ8bC",
        "outputId": "64abf95b-02a9-4364-bd7b-0fc11c58624d"
      },
      "source": [
        "# PCA\n",
        "\n",
        "from sklearn.decomposition import PCA \n",
        "\n",
        "pca = PCA(n_components=100)\n",
        "pca.fit(all_data)\n",
        "# print(pca.explained_variance_ratio_)\n",
        "print(np.sum(pca.explained_variance_ratio_))\n",
        "# print(pca.explained_variance_)"
      ],
      "execution_count": null,
      "outputs": [
        {
          "output_type": "stream",
          "text": [
            "0.62009334040444\n"
          ],
          "name": "stdout"
        }
      ]
    },
    {
      "cell_type": "code",
      "metadata": {
        "colab": {
          "base_uri": "https://localhost:8080/"
        },
        "id": "Hh4apksmCVtn",
        "outputId": "797f5113-0d19-404f-e49f-ed827efd28b6"
      },
      "source": [
        "X_new = pca.transform(all_data)\n",
        "X_new.shape"
      ],
      "execution_count": null,
      "outputs": [
        {
          "output_type": "execute_result",
          "data": {
            "text/plain": [
              "(837, 100)"
            ]
          },
          "metadata": {
            "tags": []
          },
          "execution_count": 160
        }
      ]
    },
    {
      "cell_type": "code",
      "metadata": {
        "id": "oz10XEx7DyNB"
      },
      "source": [
        "X_new_nona = X_new[~np.isnan(all_labels)]\n",
        "labels_nona = all_labels[~np.isnan(all_labels)]"
      ],
      "execution_count": null,
      "outputs": []
    },
    {
      "cell_type": "code",
      "metadata": {
        "colab": {
          "base_uri": "https://localhost:8080/"
        },
        "id": "ZXTMFxbrByhp",
        "outputId": "410c06ed-29a8-4227-8e4c-0c198e81830a"
      },
      "source": [
        "print(np.mean(cross_val_score(rbf_svr, X_new_nona, labels_nona, cv=5, scoring=\"neg_mean_squared_error\")))\n",
        "print(np.mean(cross_val_score(rbf_svr, X_new_nona, labels_nona, cv=5, scoring=\"r2\")))"
      ],
      "execution_count": null,
      "outputs": [
        {
          "output_type": "stream",
          "text": [
            "-0.7686242168292816\n",
            "0.22054563678638517\n"
          ],
          "name": "stdout"
        }
      ]
    },
    {
      "cell_type": "code",
      "metadata": {
        "id": "j021CXguFioo"
      },
      "source": [
        "# UMAP\n",
        "\n",
        "import umap"
      ],
      "execution_count": null,
      "outputs": []
    },
    {
      "cell_type": "code",
      "metadata": {
        "id": "PUkkTjdDFLh9"
      },
      "source": [
        "reducer = umap.UMAP(n_components=100)\n",
        "X_new = reducer.fit_transform(all_data)"
      ],
      "execution_count": null,
      "outputs": []
    },
    {
      "cell_type": "code",
      "metadata": {
        "colab": {
          "base_uri": "https://localhost:8080/"
        },
        "id": "nRa3BYiVQFmV",
        "outputId": "cc35bfc8-18a7-49f3-f495-9f39cbee982c"
      },
      "source": [
        "X_new_nona = X_new[~np.isnan(all_labels)]\n",
        "labels_nona = all_labels[~np.isnan(all_labels)]\n",
        "\n",
        "print(np.mean(cross_val_score(rbf_svr, X_new_nona, labels_nona, cv=5, scoring=\"neg_mean_squared_error\")))\n",
        "print(np.mean(cross_val_score(rbf_svr, X_new_nona, labels_nona, cv=5, scoring=\"r2\")))"
      ],
      "execution_count": null,
      "outputs": [
        {
          "output_type": "stream",
          "text": [
            "-0.8657544681571029\n",
            "0.12252011064954751\n"
          ],
          "name": "stdout"
        }
      ]
    },
    {
      "cell_type": "code",
      "metadata": {
        "id": "_skHnraOopgT"
      },
      "source": [
        "import scipy.io as scio\n",
        "data_file = 'gdrive/MyDrive/AE_results/MC_PR_Data/CCLE_X.mat'\n",
        "data = scio.loadmat(data_file)\n",
        "gene_expr = data['X']\n"
      ],
      "execution_count": null,
      "outputs": []
    },
    {
      "cell_type": "code",
      "metadata": {
        "id": "TsWW-eDLoZvE"
      },
      "source": [
        "labels_file = 'gdrive/MyDrive/AE_results/MC_PR_Data/MMnormal.mat'\n",
        "labels_data = scio.loadmat(labels_file)\n",
        "labels = labels_data['MM']"
      ],
      "execution_count": null,
      "outputs": []
    },
    {
      "cell_type": "code",
      "metadata": {
        "id": "mTRFy0rXpazc"
      },
      "source": [
        "# VAE model\n",
        "class VAE(nn.Module):\n",
        "    def __init__(self, input_size):\n",
        "        super(VAE, self).__init__()\n",
        "        self.fc1 = nn.Linear(input_size, 3000)\n",
        "        self.fc21 = nn.Linear(3000, 500)\n",
        "        self.fc22 = nn.Linear(3000, 500)\n",
        "        self.fc3 = nn.Linear(500, 3000)\n",
        "        self.fc4 = nn.Linear(3000, input_size)\n",
        "        \n",
        "    # 编码\n",
        "    def encode(self, x):\n",
        "        h = F.relu(self.fc1(x))\n",
        "        return self.fc21(h), self.fc22(h)\n",
        "    \n",
        "    # 随机生成隐含向量\n",
        "    def reparameterize(self, mu, log_var):\n",
        "        std = torch.exp(log_var/2)\n",
        "        eps = torch.randn_like(std)\n",
        "        return mu + eps * std\n",
        "\n",
        "    # 解码\n",
        "    def decode(self, z):\n",
        "        h = F.relu(self.fc3(z))\n",
        "        h = self.fc4(h)\n",
        "        return torch.sigmoid(h)\n",
        "        # return h\n",
        "    \n",
        "    # 前向传播\n",
        "    def forward(self, x):\n",
        "        mu, log_var = self.encode(x)\n",
        "        z = self.reparameterize(mu, log_var)\n",
        "        x_reconst = self.decode(z)\n",
        "        return x_reconst, mu, log_var\n"
      ],
      "execution_count": null,
      "outputs": []
    },
    {
      "cell_type": "code",
      "metadata": {
        "id": "63ntk6DWmYjR"
      },
      "source": [
        "class customLoss(nn.Module):\n",
        "    def __init__(self):\n",
        "        super(customLoss, self).__init__()\n",
        "        self.mse_loss = nn.MSELoss(reduction=\"sum\")\n",
        "    \n",
        "    # x_recon ist der im forward im Model erstellte recon_batch, x ist der originale x Batch, mu ist mu und logvar ist logvar \n",
        "    def forward(self, x_recon, x, mu, logvar):\n",
        "        loss_MSE = self.mse_loss(x_recon, x)\n",
        "        loss_KLD = -0.5 * torch.sum(1 + logvar - mu.pow(2) - logvar.exp())\n",
        "\n",
        "        return loss_MSE + loss_KLD "
      ],
      "execution_count": null,
      "outputs": []
    },
    {
      "cell_type": "code",
      "metadata": {
        "id": "GMWCXdj_nSU0"
      },
      "source": [
        "def loss_function(recon_x, x, mu, logvar):\n",
        "    loss = nn.MSELoss(reduction=\"sum\")\n",
        "    loss_MSE = loss(recon_x, x)\n",
        "    loss_KLD = -0.5 * torch.sum(1 + logvar - mu.pow(2) - logvar.exp())\n",
        "    return loss_MSE + loss_KLD"
      ],
      "execution_count": null,
      "outputs": []
    },
    {
      "cell_type": "code",
      "metadata": {
        "id": "PAoXct_ypglP"
      },
      "source": [
        "def scale_data(X_train, X_test):\n",
        "    scaler = MinMaxScaler()\n",
        "    new_X_train = scaler.fit_transform(X_train)\n",
        "    new_X_test = scaler.transform(X_test)\n",
        "    return new_X_train, new_X_test\n",
        "\n",
        "def top_mad(X_train, X_test, cut):    \n",
        "    index = np.argsort(-median_absolute_deviation(X_train))\n",
        "    new_index = index[:int(X_train.shape[1] * cut)]\n",
        "    X_train = X_train[:,new_index]\n",
        "    X_test = X_test[:,new_index]\n",
        "    return X_train, X_test\n",
        "\n",
        "def classic_reg(X_train, y_train, X_test, method):\n",
        "    if method == 'rf':\n",
        "        rg = RandomForestRegressor()\n",
        "    if method == 'svr':\n",
        "        rg = SVR(kernel='rbf')\n",
        "    if method == 'elasticnet':\n",
        "        rg = ElasticNet()\n",
        "\n",
        "    rg.fit(X_train, y_train)\n",
        "    test_pred = rg.predict(X_test)\n",
        "    return test_pred\n",
        "\n",
        "def evaluate(y_test, test_pred):\n",
        "    r2 = r2_score(y_test, test_pred)\n",
        "    mse = mean_squared_error(y_test, test_pred)   \n",
        "    pccs = pearsonr(y_test, test_pred)\n",
        "    \n",
        "    # print(\"Method = {}, r2_score = {}, MSE = {}, PCC = {}, PCC_p\".format(method, r2, mse, pccs[0], pccs[1]))\n",
        "    return r2, mse, pccs[0]"
      ],
      "execution_count": null,
      "outputs": []
    },
    {
      "cell_type": "code",
      "metadata": {
        "id": "-_oQPqYvpbF8"
      },
      "source": [
        "from sklearn.model_selection import train_test_split\n",
        "X_train, X_test, y_train, y_test = train_test_split(gene_expr, labels[:,3], test_size=0.2, random_state=42)\n",
        "\n",
        "X_train, X_test = top_mad(X_train, X_test, cut=0.5)\n",
        "X_train, X_test = scale_data(X_train, X_test)\n",
        "\n",
        "train_loader = DataLoader(dataset=torch.from_numpy(X_train).float(), batch_size=30)   \n",
        "test_loader = DataLoader(dataset=torch.from_numpy(X_test).float(), batch_size=30)\n"
      ],
      "execution_count": null,
      "outputs": []
    },
    {
      "cell_type": "code",
      "metadata": {
        "colab": {
          "base_uri": "https://localhost:8080/"
        },
        "id": "Wc3BHCJ4qHRi",
        "outputId": "69b6e494-843e-4147-f585-a4450445ca5e"
      },
      "source": [
        "device = torch.device(\"cuda:0\" if torch.cuda.is_available() else \"cpu\")\n",
        "print(device)"
      ],
      "execution_count": null,
      "outputs": [
        {
          "output_type": "stream",
          "text": [
            "cuda:0\n"
          ],
          "name": "stdout"
        }
      ]
    },
    {
      "cell_type": "code",
      "metadata": {
        "colab": {
          "base_uri": "https://localhost:8080/"
        },
        "id": "HxhEG6u4sGfE",
        "outputId": "c6424993-af89-4d8e-acc2-bb902f464c98"
      },
      "source": [
        "input_size\n",
        "x.shape"
      ],
      "execution_count": null,
      "outputs": [
        {
          "output_type": "execute_result",
          "data": {
            "text/plain": [
              "torch.Size([30, 9450])"
            ]
          },
          "metadata": {
            "tags": []
          },
          "execution_count": 41
        }
      ]
    },
    {
      "cell_type": "code",
      "metadata": {
        "colab": {
          "base_uri": "https://localhost:8080/",
          "height": 435
        },
        "id": "DuGr4-7Gnqte",
        "outputId": "e1d3ddda-6366-4e52-aed9-f27c0b21e732"
      },
      "source": [
        "input_size = X_train.shape[1]\n",
        "model2 = VAE(input_size).to(device)\n",
        "optimizer = torch.optim.Adam(model2.parameters(), lr=1e-3)  \n",
        "\n",
        "all_train_loss = []\n",
        "all_test_loss = []\n",
        "\n",
        "for epoch in range(200):\n",
        "    train_loss = 0\n",
        "    model2.train()\n",
        "    for x in train_loader:   \n",
        "        # model2.train()   \n",
        "        x = x.cuda()\n",
        "        x_reconst, mu, log_var = model2(x)\n",
        "        loss = loss_function(x_reconst, x, mu, log_var)\n",
        "\n",
        "        # backprop\n",
        "        optimizer.zero_grad()\n",
        "        loss.backward()\n",
        "\n",
        "        optimizer.step()\n",
        "        train_loss += loss.item()\n",
        "    \n",
        "    with torch.no_grad():\n",
        "        model2.eval()\n",
        "        test_loss = 0\n",
        "\n",
        "        for x in test_loader:\n",
        "            # model2.eval()\n",
        "            x = x.cuda()\n",
        "\n",
        "            x_reconst, mu, log_var = model2(x)\n",
        "            loss = loss_function(x_reconst, x, mu, log_var)\n",
        "\n",
        "            test_loss += loss.item()\n",
        "\n",
        "    all_train_loss.append(train_loss/len(train_loader))\n",
        "    all_test_loss.append(test_loss/len(test_loader))\n",
        "    if epoch % 20 == 0:\n",
        "        print('epoch = {}, train loss = {}, test_loss = {};'.format(epoch,\\\n",
        "                                            train_loss/len(train_loader), test_loss/len(test_loader)))\n",
        "    \n",
        "plt.plot([x for x in range(200)], all_train_loss, label='Train Loss', linewidth=2)\n",
        "plt.plot([y for y in range(200)], all_test_loss, label='Val Loss', linewidth=2)\n",
        "plt.legend()\n",
        "plt.show()"
      ],
      "execution_count": null,
      "outputs": [
        {
          "output_type": "stream",
          "text": [
            "epoch = 0, train loss = 25179.568320138114, test_loss = 8524.710083007812;\n",
            "epoch = 20, train loss = 7437.389487130301, test_loss = 6640.682189941406;\n",
            "epoch = 40, train loss = 6915.392547607422, test_loss = 6446.5809326171875;\n",
            "epoch = 60, train loss = 6691.260332380022, test_loss = 6305.5955810546875;\n",
            "epoch = 80, train loss = 6519.506652832031, test_loss = 6397.867248535156;\n",
            "epoch = 100, train loss = 6472.241657802037, test_loss = 6311.5721435546875;\n",
            "epoch = 120, train loss = 6271.18739100865, test_loss = 6502.6025390625;\n",
            "epoch = 140, train loss = 6219.620147705078, test_loss = 6420.85595703125;\n",
            "epoch = 160, train loss = 6273.817308698382, test_loss = 6636.983154296875;\n",
            "epoch = 180, train loss = 6505.756356375558, test_loss = 6770.0677490234375;\n"
          ],
          "name": "stdout"
        },
        {
          "output_type": "display_data",
          "data": {
            "image/png": "[encoded data removed]",
            "text/plain": [
              "<Figure size 432x288 with 1 Axes>"
            ]
          },
          "metadata": {
            "tags": [],
            "needs_background": "light"
          }
        }
      ]
    },
    {
      "cell_type": "code",
      "metadata": {
        "colab": {
          "base_uri": "https://localhost:8080/",
          "height": 265
        },
        "id": "k3-o8cHft9eJ",
        "outputId": "f96f7a6b-8e19-4885-c179-8471911b727a"
      },
      "source": [
        "    \n",
        "plt.plot([x for x in range(180)], all_train_loss[20:], label='Train Loss', linewidth=2)\n",
        "plt.plot([y for y in range(180)], all_test_loss[20:], label='Val Loss', linewidth=2)\n",
        "plt.legend()\n",
        "plt.show()"
      ],
      "execution_count": null,
      "outputs": [
        {
          "output_type": "display_data",
          "data": {
            "image/png": "[encoded data removed]",
            "text/plain": [
              "<Figure size 432x288 with 1 Axes>"
            ]
          },
          "metadata": {
            "tags": [],
            "needs_background": "light"
          }
        }
      ]
    },
    {
      "cell_type": "code",
      "metadata": {
        "id": "D6ALda3otlfu"
      },
      "source": [
        "torch.cuda.empty_cache()"
      ],
      "execution_count": null,
      "outputs": []
    },
    {
      "cell_type": "code",
      "metadata": {
        "id": "CaD4fDSmquBf"
      },
      "source": [
        "x_reconst, train_encoder, log_var = model2(torch.from_numpy(X_train).float().cuda())\n",
        "x_reconst, test_encoder, log_var = model2(torch.from_numpy(X_test).float().cuda())"
      ],
      "execution_count": null,
      "outputs": []
    },
    {
      "cell_type": "code",
      "metadata": {
        "id": "-NPXEkfpq0D_"
      },
      "source": [
        "X_train = train_encoder.cpu().detach().numpy()\n",
        "X_test = test_encoder.cpu().detach().numpy()"
      ],
      "execution_count": null,
      "outputs": []
    },
    {
      "cell_type": "code",
      "metadata": {
        "colab": {
          "base_uri": "https://localhost:8080/"
        },
        "id": "qjJ5VafCwjnF",
        "outputId": "2438e038-a9b9-43ea-8606-3669ab0b3d1d"
      },
      "source": [
        "np.sum(np.all(np.equal(X_test, 0), axis=0))"
      ],
      "execution_count": null,
      "outputs": [
        {
          "output_type": "execute_result",
          "data": {
            "text/plain": [
              "0"
            ]
          },
          "metadata": {
            "tags": []
          },
          "execution_count": 64
        }
      ]
    },
    {
      "cell_type": "code",
      "metadata": {
        "colab": {
          "base_uri": "https://localhost:8080/"
        },
        "id": "iLdK11NWwoPd",
        "outputId": "4d390e68-c7ef-40ba-b34c-c62b7b0488bc"
      },
      "source": [
        "methods = ['rf', 'svr']\n",
        "all_r2 = [0, 0]\n",
        "all_mse = [0, 0]\n",
        "all_pcc = [0, 0]\n",
        "for j in range(2):\n",
        "    test_pred = classic_reg(X_train, y_train, X_test, method=methods[j])\n",
        "    r2, mse, pcc = evaluate(y_test, test_pred)\n",
        "    all_r2[j] += r2\n",
        "    all_mse[j] += mse\n",
        "    all_pcc[j] += pcc\n",
        "print(all_r2)\n",
        "print(all_mse)\n",
        "print(all_pcc)"
      ],
      "execution_count": null,
      "outputs": [
        {
          "output_type": "stream",
          "text": [
            "[0.3872046592821007, 0.3566256168012716]\n",
            "[0.5644027933531994, 0.592567003893748]\n",
            "[0.6258431087467016, 0.628376624649286]\n"
          ],
          "name": "stdout"
        }
      ]
    }
  ]
}